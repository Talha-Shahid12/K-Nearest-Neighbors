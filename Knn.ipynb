{
 "cells": [
  {
   "cell_type": "code",
   "execution_count": 1,
   "id": "7d684b06-24f9-46aa-b441-904322bd455c",
   "metadata": {},
   "outputs": [],
   "source": [
    "import pandas as pd\n",
    "from sklearn.datasets import load_iris\n",
    "iris = load_iris()"
   ]
  },
  {
   "cell_type": "code",
   "execution_count": 3,
   "id": "560b2c28-33d4-4fca-89b1-3ddaa27f54e0",
   "metadata": {},
   "outputs": [],
   "source": [
    "df  = pd.DataFrame(iris.data, columns = iris.feature_names)"
   ]
  },
  {
   "cell_type": "code",
   "execution_count": 4,
   "id": "73e094bb-421a-4ea6-9e94-1e84b4f01205",
   "metadata": {},
   "outputs": [],
   "source": [
    "df['target']  = iris.target"
   ]
  },
  {
   "cell_type": "code",
   "execution_count": 5,
   "id": "266332d1-fd9b-4f1f-8b95-929c5cdf71b5",
   "metadata": {},
   "outputs": [],
   "source": [
    "df0 = df[df.target == 0]\n",
    "df1 = df[df.target == 1]\n",
    "df2 = df[df.target == 2]"
   ]
  },
  {
   "cell_type": "code",
   "execution_count": 7,
   "id": "3151c41b-029b-4544-9cc0-aa3aa9a2f767",
   "metadata": {},
   "outputs": [],
   "source": [
    "from matplotlib import pyplot as plt"
   ]
  },
  {
   "cell_type": "code",
   "execution_count": null,
   "id": "b10ee212-f7f8-429b-88ca-447ae1f17ae4",
   "metadata": {},
   "outputs": [],
   "source": [
    "plt.scatter(df0['sepal length (cm)'], df0['sepal width (cm)'], color = 'Green', marker = '+')\n",
    "plt.scatter(df1['sepal length (cm)'], df1['sepal width (cm)'], color = 'Blue', marker = '+')\n",
    "plt.scatter(df2['sepal length (cm)'], df2['sepal width (cm)'], color = 'Yellow', marker = '+')\n",
    "plt.xlabel('sepal length')\n",
    "plt.ylabel('sepal width')"
   ]
  },
  {
   "cell_type": "code",
   "execution_count": null,
   "id": "c92c2259-5391-46bd-b223-18262daaffcd",
   "metadata": {},
   "outputs": [],
   "source": [
    "plt.scatter(df0['petal length (cm)'], df0['petal width (cm)'], color = 'Green', marker = '+')\n",
    "plt.scatter(df1['petal length (cm)'], df1['petal width (cm)'], color = 'Blue', marker = '+')\n",
    "plt.scatter(df2['petal length (cm)'], df2['petal width (cm)'], color = 'Yellow', marker = '+')\n",
    "plt.xlabel('petal length')\n",
    "plt.ylabel('petal width')"
   ]
  },
  {
   "cell_type": "code",
   "execution_count": 14,
   "id": "b848ac2d-0375-46bb-a0bf-dc094063d063",
   "metadata": {},
   "outputs": [],
   "source": [
    "X = df.drop('target', axis = 'columns')"
   ]
  },
  {
   "cell_type": "code",
   "execution_count": 42,
   "id": "930d73db-8754-4b32-b11e-c713e9aa90ad",
   "metadata": {},
   "outputs": [],
   "source": [
    "Y = df.target"
   ]
  },
  {
   "cell_type": "code",
   "execution_count": 45,
   "id": "4f59b4a4-92b0-496a-93f4-4fef07782664",
   "metadata": {},
   "outputs": [],
   "source": [
    "from sklearn.neighbors import KNeighborsClassifier\n",
    "model = KNeighborsClassifier(n_neighbors=10)"
   ]
  },
  {
   "cell_type": "code",
   "execution_count": null,
   "id": "faf4b921-9bc1-4380-845d-502852ce785d",
   "metadata": {},
   "outputs": [],
   "source": [
    "model.fit(X_train,Y_train)"
   ]
  },
  {
   "cell_type": "code",
   "execution_count": null,
   "id": "ebf9b894-c611-41ef-87a2-bc2d716aa089",
   "metadata": {},
   "outputs": [],
   "source": [
    "model.score(X,Y)"
   ]
  },
  {
   "cell_type": "markdown",
   "id": "911359a4-ade9-4169-992d-aa1e05a8a827",
   "metadata": {},
   "source": [
    "Drawing Confusion Matrix"
   ]
  },
  {
   "cell_type": "code",
   "execution_count": null,
   "id": "9d711039-8174-4cd9-80d1-8b3b7451a728",
   "metadata": {},
   "outputs": [],
   "source": [
    "from sklearn.metrics import confusion_matrix\n",
    "Y_pred = model.predict(X_test)\n",
    "cm = confusion_matrix(Y_test,Y_pred)\n",
    "cm"
   ]
  },
  {
   "cell_type": "markdown",
   "id": "5946e488-55f0-433a-b1f8-f67521bf2488",
   "metadata": {},
   "source": [
    "Drawing Classification Report"
   ]
  },
  {
   "cell_type": "code",
   "execution_count": null,
   "id": "cb4c4ba8-bd2a-4139-9ceb-891667f9a3bb",
   "metadata": {},
   "outputs": [],
   "source": [
    "from sklearn.metrics import classification_report\n",
    "Y_pred = model.predict(X_test)\n",
    "cr = classification_report(Y_test,Y_pred)\n",
    "print(cr)"
   ]
  },
  {
   "cell_type": "code",
   "execution_count": null,
   "id": "660c2e28-bb44-4021-9763-fc4b54d2f037",
   "metadata": {},
   "outputs": [],
   "source": []
  }
 ],
 "metadata": {
  "kernelspec": {
   "display_name": "Python 3 (ipykernel)",
   "language": "python",
   "name": "python3"
  },
  "language_info": {
   "codemirror_mode": {
    "name": "ipython",
    "version": 3
   },
   "file_extension": ".py",
   "mimetype": "text/x-python",
   "name": "python",
   "nbconvert_exporter": "python",
   "pygments_lexer": "ipython3",
   "version": "3.11.7"
  }
 },
 "nbformat": 4,
 "nbformat_minor": 5
}
